{
 "cells": [
  {
   "cell_type": "markdown",
   "metadata": {},
   "source": [
    "## Transformations\n",
    "\n",
    "    from scipy import stats\n",
    "\n",
    "    # z-score\n",
    "        dataz = stats.zscore(data,ddof=1) # or dataz = (data-datamean) / datastd\n",
    "    # min-max scaling\n",
    "        dataS = (data-min(data)) / (max(data)-min(data))\n",
    "\n",
    "# Outlier removal\n",
    "\n",
    "    # Remove outliers using modified z-score\n",
    "        from statsmodels import robust\n",
    "        dataMed = np.median(data)\n",
    "        dataMAD = robust.mad(data)\n",
    "\n",
    "        dataMz = stats.norm.ppf(.75)*(data-dataMed) / dataMAD\n"
   ]
  }
 ],
 "metadata": {
  "language_info": {
   "name": "python"
  },
  "orig_nbformat": 4
 },
 "nbformat": 4,
 "nbformat_minor": 2
}
